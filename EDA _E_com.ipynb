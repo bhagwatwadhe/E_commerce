{
 "cells": [
  {
   "cell_type": "code",
   "execution_count": 4,
   "metadata": {},
   "outputs": [],
   "source": [
    "## Importing ncecesary libraries\n",
    "import pandas as pd\n",
    "import numpy as np\n",
    "import matplotlib.pyplot as plt\n",
    "## Setting up display options\n",
    "## Setting up file options\n",
    "pd.set_option('display.max_rows',100)\n",
    "pd.set_option('display.max_columns',100)\n",
    "import mitosheet"
   ]
  },
  {
   "cell_type": "code",
   "execution_count": 6,
   "metadata": {},
   "outputs": [],
   "source": [
    "## Reading input file \n",
    "ecom = pd.read_excel(r\"E_com_Data.xlsx\")"
   ]
  },
  {
   "cell_type": "code",
   "execution_count": 7,
   "metadata": {},
   "outputs": [
    {
     "data": {
      "text/html": [
       "<div><div id=4f1e977c-7020-4435-9135-c7a09d4d0478 style=\"display:none; background-color:#9D6CFF; color:white; width:200px; height:30px; padding-left:5px; border-radius:4px; flex-direction:row; justify-content:space-around; align-items:center;\" onmouseover=\"this.style.backgroundColor='#BA9BF8'\" onmouseout=\"this.style.backgroundColor='#9D6CFF'\" onclick=\"window.commands?.execute('create-mitosheet-from-dataframe-output');\">See Full Dataframe in Mito</div> <script> if (window.commands.hasCommand('create-mitosheet-from-dataframe-output')) document.getElementById('4f1e977c-7020-4435-9135-c7a09d4d0478').style.display = 'flex' </script> <table border=\"1\" class=\"dataframe\">\n",
       "  <thead>\n",
       "    <tr style=\"text-align: right;\">\n",
       "      <th></th>\n",
       "      <th>CustomerID</th>\n",
       "      <th>Item Code</th>\n",
       "      <th>InvoieNo</th>\n",
       "      <th>Date of purchase</th>\n",
       "      <th>Quantity</th>\n",
       "      <th>Time</th>\n",
       "      <th>price per Unit</th>\n",
       "      <th>Price</th>\n",
       "      <th>Shipping Location</th>\n",
       "      <th>Cancelled_status</th>\n",
       "      <th>Reason of return</th>\n",
       "      <th>Sold as set</th>\n",
       "    </tr>\n",
       "  </thead>\n",
       "  <tbody>\n",
       "    <tr>\n",
       "      <th>0</th>\n",
       "      <td>4355.0</td>\n",
       "      <td>15734</td>\n",
       "      <td>398177</td>\n",
       "      <td>2017-10-29</td>\n",
       "      <td>6</td>\n",
       "      <td>15:36:00</td>\n",
       "      <td>321.0</td>\n",
       "      <td>1926.0</td>\n",
       "      <td>Location 1</td>\n",
       "      <td>NaN</td>\n",
       "      <td>NaN</td>\n",
       "      <td>NaN</td>\n",
       "    </tr>\n",
       "    <tr>\n",
       "      <th>1</th>\n",
       "      <td>4352.0</td>\n",
       "      <td>14616</td>\n",
       "      <td>394422</td>\n",
       "      <td>2017-10-05</td>\n",
       "      <td>2</td>\n",
       "      <td>14:53:00</td>\n",
       "      <td>870.0</td>\n",
       "      <td>1740.0</td>\n",
       "      <td>Location 1</td>\n",
       "      <td>NaN</td>\n",
       "      <td>NaN</td>\n",
       "      <td>NaN</td>\n",
       "    </tr>\n",
       "    <tr>\n",
       "      <th>2</th>\n",
       "      <td>4352.0</td>\n",
       "      <td>14614</td>\n",
       "      <td>394422</td>\n",
       "      <td>2017-10-12</td>\n",
       "      <td>2</td>\n",
       "      <td>14:53:00</td>\n",
       "      <td>933.0</td>\n",
       "      <td>1866.0</td>\n",
       "      <td>Location 1</td>\n",
       "      <td>NaN</td>\n",
       "      <td>NaN</td>\n",
       "      <td>NaN</td>\n",
       "    </tr>\n",
       "    <tr>\n",
       "      <th>3</th>\n",
       "      <td>4352.0</td>\n",
       "      <td>85014B</td>\n",
       "      <td>388633</td>\n",
       "      <td>2017-08-22</td>\n",
       "      <td>3</td>\n",
       "      <td>14:47:00</td>\n",
       "      <td>623.0</td>\n",
       "      <td>1869.0</td>\n",
       "      <td>Location 1</td>\n",
       "      <td>NaN</td>\n",
       "      <td>NaN</td>\n",
       "      <td>NaN</td>\n",
       "    </tr>\n",
       "    <tr>\n",
       "      <th>4</th>\n",
       "      <td>4352.0</td>\n",
       "      <td>15364</td>\n",
       "      <td>394422</td>\n",
       "      <td>2017-10-10</td>\n",
       "      <td>2</td>\n",
       "      <td>14:53:00</td>\n",
       "      <td>944.0</td>\n",
       "      <td>1888.0</td>\n",
       "      <td>Location 1</td>\n",
       "      <td>NaN</td>\n",
       "      <td>NaN</td>\n",
       "      <td>NaN</td>\n",
       "    </tr>\n",
       "    <tr>\n",
       "      <th>5</th>\n",
       "      <td>4349.0</td>\n",
       "      <td>14618</td>\n",
       "      <td>397122</td>\n",
       "      <td>2017-10-27</td>\n",
       "      <td>1</td>\n",
       "      <td>12:43:00</td>\n",
       "      <td>256.0</td>\n",
       "      <td>256.0</td>\n",
       "      <td>Location 1</td>\n",
       "      <td>NaN</td>\n",
       "      <td>NaN</td>\n",
       "      <td>NaN</td>\n",
       "    </tr>\n",
       "    <tr>\n",
       "      <th>6</th>\n",
       "      <td>4343.0</td>\n",
       "      <td>15364</td>\n",
       "      <td>368432</td>\n",
       "      <td>2017-02-13</td>\n",
       "      <td>-4</td>\n",
       "      <td>14:46:00</td>\n",
       "      <td>922.0</td>\n",
       "      <td>-3688.0</td>\n",
       "      <td>Location 1</td>\n",
       "      <td>1.0</td>\n",
       "      <td>NaN</td>\n",
       "      <td>NaN</td>\n",
       "    </tr>\n",
       "    <tr>\n",
       "      <th>7</th>\n",
       "      <td>4341.0</td>\n",
       "      <td>85014B</td>\n",
       "      <td>377109</td>\n",
       "      <td>2017-05-14</td>\n",
       "      <td>3</td>\n",
       "      <td>09:22:00</td>\n",
       "      <td>677.0</td>\n",
       "      <td>2031.0</td>\n",
       "      <td>Location 1</td>\n",
       "      <td>NaN</td>\n",
       "      <td>NaN</td>\n",
       "      <td>NaN</td>\n",
       "    </tr>\n",
       "    <tr>\n",
       "      <th>8</th>\n",
       "      <td>4341.0</td>\n",
       "      <td>85014A</td>\n",
       "      <td>377109</td>\n",
       "      <td>2017-05-12</td>\n",
       "      <td>3</td>\n",
       "      <td>09:22:00</td>\n",
       "      <td>692.0</td>\n",
       "      <td>2076.0</td>\n",
       "      <td>Location 1</td>\n",
       "      <td>NaN</td>\n",
       "      <td>NaN</td>\n",
       "      <td>NaN</td>\n",
       "    </tr>\n",
       "    <tr>\n",
       "      <th>9</th>\n",
       "      <td>4341.0</td>\n",
       "      <td>85014B</td>\n",
       "      <td>390217</td>\n",
       "      <td>2017-09-07</td>\n",
       "      <td>6</td>\n",
       "      <td>14:47:00</td>\n",
       "      <td>670.0</td>\n",
       "      <td>4020.0</td>\n",
       "      <td>Location 1</td>\n",
       "      <td>NaN</td>\n",
       "      <td>NaN</td>\n",
       "      <td>NaN</td>\n",
       "    </tr>\n",
       "  </tbody>\n",
       "</table></div>"
      ],
      "text/plain": [
       "   CustomerID Item Code  InvoieNo Date of purchase  Quantity      Time  \\\n",
       "0      4355.0     15734    398177       2017-10-29         6  15:36:00   \n",
       "1      4352.0     14616    394422       2017-10-05         2  14:53:00   \n",
       "2      4352.0     14614    394422       2017-10-12         2  14:53:00   \n",
       "3      4352.0    85014B    388633       2017-08-22         3  14:47:00   \n",
       "4      4352.0     15364    394422       2017-10-10         2  14:53:00   \n",
       "5      4349.0     14618    397122       2017-10-27         1  12:43:00   \n",
       "6      4343.0     15364    368432       2017-02-13        -4  14:46:00   \n",
       "7      4341.0    85014B    377109       2017-05-14         3  09:22:00   \n",
       "8      4341.0    85014A    377109       2017-05-12         3  09:22:00   \n",
       "9      4341.0    85014B    390217       2017-09-07         6  14:47:00   \n",
       "\n",
       "   price per Unit   Price Shipping Location  Cancelled_status  \\\n",
       "0           321.0  1926.0        Location 1               NaN   \n",
       "1           870.0  1740.0        Location 1               NaN   \n",
       "2           933.0  1866.0        Location 1               NaN   \n",
       "3           623.0  1869.0        Location 1               NaN   \n",
       "4           944.0  1888.0        Location 1               NaN   \n",
       "5           256.0   256.0        Location 1               NaN   \n",
       "6           922.0 -3688.0        Location 1               1.0   \n",
       "7           677.0  2031.0        Location 1               NaN   \n",
       "8           692.0  2076.0        Location 1               NaN   \n",
       "9           670.0  4020.0        Location 1               NaN   \n",
       "\n",
       "  Reason of return  Sold as set  \n",
       "0              NaN          NaN  \n",
       "1              NaN          NaN  \n",
       "2              NaN          NaN  \n",
       "3              NaN          NaN  \n",
       "4              NaN          NaN  \n",
       "5              NaN          NaN  \n",
       "6              NaN          NaN  \n",
       "7              NaN          NaN  \n",
       "8              NaN          NaN  \n",
       "9              NaN          NaN  "
      ]
     },
     "execution_count": 7,
     "metadata": {},
     "output_type": "execute_result"
    }
   ],
   "source": [
    "ecom.head(10)"
   ]
  },
  {
   "cell_type": "markdown",
   "metadata": {},
   "source": [
    "# EDA on raw data below:"
   ]
  },
  {
   "cell_type": "markdown",
   "metadata": {},
   "source": [
    "## 1.costomer id frequencies state about how many no. of times transaction happened for specific CustomerID"
   ]
  },
  {
   "cell_type": "code",
   "execution_count": 16,
   "metadata": {},
   "outputs": [
    {
     "data": {
      "text/html": [
       "<iframe\n",
       "    scrolling=\"no\"\n",
       "    width=\"100%\"\n",
       "    height=\"545px\"\n",
       "    src=\"iframe_figures/figure_16.html\"\n",
       "    frameborder=\"0\"\n",
       "    allowfullscreen\n",
       "></iframe>\n"
      ]
     },
     "metadata": {},
     "output_type": "display_data"
    }
   ],
   "source": [
    "\n",
    "\n",
    "# Import plotly and create a figure\n",
    "import plotly.graph_objects as go\n",
    "fig = go.Figure()\n",
    "\n",
    "\n",
    "# Add the histogram traces to the figure\n",
    "for column_header in ['CustomerID']:\n",
    "    fig.add_trace(go.Histogram(x=ecom[column_header], name=column_header))\n",
    "\n",
    "# Update the layout\n",
    "# See Plotly documentation for customizations: https://plotly.com/python/reference/histogram/\n",
    "fig.update_layout(\n",
    "\txaxis_title='CustomerID',\n",
    "    title='CustomerID frequencies',\n",
    "    barmode='group'\n",
    ")\n",
    "fig.show(renderer=\"iframe\")"
   ]
  },
  {
   "cell_type": "markdown",
   "metadata": {},
   "source": [
    "## 2. Below graph highlights Price segments in which most transaction happened."
   ]
  },
  {
   "cell_type": "code",
   "execution_count": 24,
   "metadata": {},
   "outputs": [
    {
     "data": {
      "text/html": [
       "<iframe\n",
       "    scrolling=\"no\"\n",
       "    width=\"100%\"\n",
       "    height=\"545px\"\n",
       "    src=\"iframe_figures/figure_24.html\"\n",
       "    frameborder=\"0\"\n",
       "    allowfullscreen\n",
       "></iframe>\n"
      ]
     },
     "metadata": {},
     "output_type": "display_data"
    }
   ],
   "source": [
    "# Import plotly and create a figure\n",
    "import plotly.graph_objects as go\n",
    "fig = go.Figure()\n",
    "\n",
    "\n",
    "# Filter the dataframe so that it doesn't crash the browser with too much data\n",
    "from mitosheet import filter_df_to_safe_size\n",
    "ecom_filtered, _ = filter_df_to_safe_size('scatter', ecom, ['CustomerID', 'Price'])\n",
    "\n",
    "\n",
    "# Add the scatter traces to the figure\n",
    "for column_header in ['CustomerID']:\n",
    "    fig.add_trace(go.Scatter(\n",
    "        x=ecom_filtered[column_header],\n",
    "        y=ecom_filtered['Price'],\n",
    "        mode='markers',\n",
    "        name=column_header\n",
    "    ))\n",
    "\n",
    "# Update the layout\n",
    "# See Plotly documentation for cutomizations: https://plotly.com/python/reference/scatter/\n",
    "fig.update_layout(\n",
    "    xaxis_title='CustomerID',\n",
    "    yaxis_title='Price',\n",
    "    title='CustomerID, Price (first 10k) scatter plot',\n",
    ")\n",
    "fig.show(renderer=\"iframe\")"
   ]
  },
  {
   "cell_type": "markdown",
   "metadata": {},
   "source": [
    "## 3. Bar plot which states volume of sales with costomer by shipping locations"
   ]
  },
  {
   "cell_type": "code",
   "execution_count": 30,
   "metadata": {
    "scrolled": true
   },
   "outputs": [
    {
     "data": {
      "text/html": [
       "<iframe\n",
       "    scrolling=\"no\"\n",
       "    width=\"100%\"\n",
       "    height=\"545px\"\n",
       "    src=\"iframe_figures/figure_30.html\"\n",
       "    frameborder=\"0\"\n",
       "    allowfullscreen\n",
       "></iframe>\n"
      ]
     },
     "metadata": {},
     "output_type": "display_data"
    }
   ],
   "source": [
    "# Import plotly and create a figure\n",
    "import plotly.graph_objects as go\n",
    "fig = go.Figure()\n",
    "\n",
    "\n",
    "# Filter the dataframe so that it does not crash the browser\n",
    "from mitosheet import filter_df_to_safe_size\n",
    "ecom_filtered, _ = filter_df_to_safe_size('bar', ecom, ['Shipping Location'], ['CustomerID'])\n",
    "\n",
    "\n",
    "# Add the bar chart traces to the graph\n",
    "for column_header in ['Shipping Location']:\n",
    "    fig.add_trace(\n",
    "        go.Bar( \n",
    "            x=ecom_filtered[column_header],\n",
    "            y=ecom_filtered['CustomerID'],\n",
    "            name=column_header\n",
    "        )\n",
    "    )\n",
    "\n",
    "# Update the title and stacking mode of the graph\n",
    "# See Plotly documentation for customizations: https://plotly.com/python/reference/bar/\n",
    "fig.update_layout(\n",
    "    xaxis_title='Shipping Location',\n",
    "    yaxis_title='CustomerID',\n",
    "    title='Shipping Location, CustomerID (first 5k) bar chart',\n",
    "    barmode='group',\n",
    ")\n",
    "fig.show(renderer=\"iframe\")"
   ]
  },
  {
   "cell_type": "markdown",
   "metadata": {},
   "source": [
    "## 4.Below bar plot highlight sales growth quarterly. OR increased in costomer engagement in quaterly time period."
   ]
  },
  {
   "cell_type": "code",
   "execution_count": 32,
   "metadata": {},
   "outputs": [
    {
     "data": {
      "text/html": [
       "<iframe\n",
       "    scrolling=\"no\"\n",
       "    width=\"100%\"\n",
       "    height=\"545px\"\n",
       "    src=\"iframe_figures/figure_32.html\"\n",
       "    frameborder=\"0\"\n",
       "    allowfullscreen\n",
       "></iframe>\n"
      ]
     },
     "metadata": {},
     "output_type": "display_data"
    }
   ],
   "source": [
    "# Import plotly and create a figure\n",
    "import plotly.graph_objects as go\n",
    "fig = go.Figure()\n",
    "\n",
    "\n",
    "# Filter the dataframe so that it does not crash the browser\n",
    "from mitosheet import filter_df_to_safe_size\n",
    "ecom_filtered, _ = filter_df_to_safe_size('bar', ecom, ['Date of purchase'], ['CustomerID'])\n",
    "\n",
    "\n",
    "# Add the bar chart traces to the graph\n",
    "for column_header in ['Date of purchase']:\n",
    "    fig.add_trace(\n",
    "        go.Bar( \n",
    "            x=ecom_filtered[column_header],\n",
    "            y=ecom_filtered['CustomerID'],\n",
    "            name=column_header\n",
    "        )\n",
    "    )\n",
    "\n",
    "# Update the title and stacking mode of the graph\n",
    "# See Plotly documentation for customizations: https://plotly.com/python/reference/bar/\n",
    "fig.update_layout(\n",
    "    xaxis_title='Date of purchase',\n",
    "    yaxis_title='CustomerID',\n",
    "    title='Date of purchase, CustomerID (first 5k) bar chart',\n",
    "    barmode='group',\n",
    ")\n",
    "fig.show(renderer=\"iframe\")"
   ]
  },
  {
   "cell_type": "markdown",
   "metadata": {},
   "source": [
    "## 5. This one is optional for price segment distribution."
   ]
  },
  {
   "cell_type": "code",
   "execution_count": 28,
   "metadata": {},
   "outputs": [
    {
     "data": {
      "text/html": [
       "<iframe\n",
       "    scrolling=\"no\"\n",
       "    width=\"100%\"\n",
       "    height=\"545px\"\n",
       "    src=\"iframe_figures/figure_28.html\"\n",
       "    frameborder=\"0\"\n",
       "    allowfullscreen\n",
       "></iframe>\n"
      ]
     },
     "metadata": {},
     "output_type": "display_data"
    }
   ],
   "source": [
    "# Import plotly and create a figure\n",
    "import plotly.graph_objects as go\n",
    "fig = go.Figure()\n",
    "\n",
    "\n",
    "# Add the histogram traces to the figure\n",
    "for column_header in ['Price']:\n",
    "    fig.add_trace(go.Histogram(x=ecom[column_header], name=column_header))\n",
    "\n",
    "# Update the layout\n",
    "# See Plotly documentation for customizations: https://plotly.com/python/reference/histogram/\n",
    "fig.update_layout(\n",
    "\txaxis_title='Price',\n",
    "    title='Price frequencies',\n",
    "    barmode='group'\n",
    ")\n",
    "fig.show(renderer=\"iframe\")"
   ]
  },
  {
   "cell_type": "code",
   "execution_count": null,
   "metadata": {},
   "outputs": [],
   "source": []
  }
 ],
 "metadata": {
  "kernelspec": {
   "display_name": "Python 3",
   "language": "python",
   "name": "python3"
  },
  "language_info": {
   "codemirror_mode": {
    "name": "ipython",
    "version": 3
   },
   "file_extension": ".py",
   "mimetype": "text/x-python",
   "name": "python",
   "nbconvert_exporter": "python",
   "pygments_lexer": "ipython3",
   "version": "3.8.5"
  }
 },
 "nbformat": 4,
 "nbformat_minor": 4
}
